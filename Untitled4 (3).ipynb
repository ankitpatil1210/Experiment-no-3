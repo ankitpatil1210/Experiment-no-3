{
  "nbformat": 4,
  "nbformat_minor": 0,
  "metadata": {
    "colab": {
      "name": "Untitled4.ipynb",
      "provenance": []
    },
    "kernelspec": {
      "name": "python3",
      "display_name": "Python 3"
    },
    "language_info": {
      "name": "python"
    }
  },
  "cells": [
    {
      "cell_type": "markdown",
      "source": [
        "write a programe to perform differnt arithmatic operations on numbers in python"
      ],
      "metadata": {
        "id": "0Bo7NjQ-rAa9"
      }
    },
    {
      "cell_type": "code",
      "source": [
        "a = 2\n",
        "b = 3\n",
        "\n",
        "print(a+b)\n",
        "\n",
        "\n",
        "a = 6\n",
        "b = 3\n",
        "\n",
        "print(a-b)\n",
        "\n",
        "\n",
        "a = 2\n",
        "b = 3\n",
        "\n",
        "print(a * b)\n",
        "\n",
        "a= 15\n",
        "b = 3\n",
        "\n",
        "print(a / b)\n",
        "\n",
        "a = 5\n",
        "b = 3\n",
        "\n",
        "print(a % b)\n",
        "\n",
        "a= 3\n",
        "b= 3\n",
        "\n",
        "print(a ** b) \n",
        "\n",
        "a = 12\n",
        "b = 3\n",
        "\n",
        "print(a // b)\n",
        "\n",
        "#the floor division // rounds the result down to the nearest whole number"
      ],
      "metadata": {
        "colab": {
          "base_uri": "https://localhost:8080/"
        },
        "id": "o-wyTTHhrAi1",
        "outputId": "4c476644-d8cf-4f8d-9228-fcb38cd83319"
      },
      "execution_count": 22,
      "outputs": [
        {
          "output_type": "stream",
          "name": "stdout",
          "text": [
            "5\n",
            "3\n",
            "6\n",
            "5.0\n",
            "2\n",
            "27\n",
            "4\n"
          ]
        }
      ]
    }
  ]
}